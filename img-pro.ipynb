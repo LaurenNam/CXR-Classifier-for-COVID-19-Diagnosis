{
 "cells": [
  {
   "attachments": {},
   "cell_type": "markdown",
   "metadata": {},
   "source": [
    "# Image Pre-processing\n",
    "This is a script for pre-processing the images before training or testing. All images are resized into 224*224 so that they can fit in the VGG16 model. "
   ]
  },
  {
   "cell_type": "code",
   "execution_count": 1,
   "metadata": {},
   "outputs": [],
   "source": [
    "# packages setup\n",
    "import os\n",
    "import cv2\n",
    "import numpy as np"
   ]
  },
  {
   "cell_type": "code",
   "execution_count": 7,
   "metadata": {},
   "outputs": [],
   "source": [
    "# change the directory of the input folder and output folder\n",
    "input_dir = 'new_test/non-covid'\n",
    "output_dir = 'new_test_pro/non-covid'\n",
    "\n",
    "# create a new directory for the output folder if it is not yet created\n",
    "os.makedirs(output_dir, exist_ok=True)"
   ]
  },
  {
   "cell_type": "code",
   "execution_count": null,
   "metadata": {},
   "outputs": [],
   "source": [
    "# loop through every image of the input folder\n",
    "for filename in os.listdir(input_dir):\n",
    "    img_path = os.path.join(input_dir, filename)\n",
    "    img = cv2.imread(img_path)\n",
    "    h, w = img.shape[:2]\n",
    "    # resize the image proportionally \n",
    "    # crop additional pixels so that the output size is 224\n",
    "    if h > w:\n",
    "        new_h = 224\n",
    "        new_w = max(int(w * new_h / h), 224)\n",
    "    else:\n",
    "        new_w = 224\n",
    "        new_h = max(int(h * new_w / w), 224)\n",
    "    img_resized = cv2.resize(img, (new_w, new_h), interpolation=cv2.INTER_AREA)\n",
    "    crop_y = (new_h - 224) // 2\n",
    "    crop_x = (new_w - 224) // 2\n",
    "    img_cropped = img_resized[crop_y:crop_y+224, crop_x:crop_x+224, :]\n",
    "    output_path = os.path.join(output_dir, filename)\n",
    "    cv2.imwrite(output_path, img_cropped)\n",
    "    print(f\"Resized and saved {filename} to {output_path}\")"
   ]
  },
  {
   "cell_type": "code",
   "execution_count": null,
   "metadata": {},
   "outputs": [],
   "source": [
    "# check how many images are stored in the output image\n",
    "count = len([f for f in os.listdir(output_dir) if os.path.isfile(os.path.join(output_dir, f))])\n",
    "print(f\"Number of files in {output_dir}: {count}\")\n"
   ]
  }
 ],
 "metadata": {
  "kernelspec": {
   "display_name": "c",
   "language": "python",
   "name": "python3"
  },
  "language_info": {
   "codemirror_mode": {
    "name": "ipython",
    "version": 3
   },
   "file_extension": ".py",
   "mimetype": "text/x-python",
   "name": "python",
   "nbconvert_exporter": "python",
   "pygments_lexer": "ipython3",
   "version": "3.8.2"
  },
  "orig_nbformat": 4
 },
 "nbformat": 4,
 "nbformat_minor": 2
}
